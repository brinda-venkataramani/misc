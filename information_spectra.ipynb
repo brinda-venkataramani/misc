{
 "cells": [
  {
   "cell_type": "code",
   "execution_count": 3,
   "metadata": {},
   "outputs": [
    {
     "data": {
      "image/png": "[encoded data removed]",
      "text/plain": [
       "<Figure size 432x288 with 1 Axes>"
      ]
     },
     "metadata": {
      "needs_background": "light"
     },
     "output_type": "display_data"
    }
   ],
   "source": [
    "# Here is a very inefficient way to generate a plot of information for a fixed number of runs given a one-particle, n-state system.\n",
    "# Arguably might be better to generate the random probabilities using a Gaussian distribution and then throwing out the bad values that will give a \"nan\" return.\n",
    "# This is not efficient though, so try and limit the number of runs/states.\n",
    "# Can probably add functionality to generate randoms based on desired distribution; I won't though. Maybe eventually.\n",
    "\n",
    "import numpy as np\n",
    "import matplotlib as mpl\n",
    "import matplotlib.pyplot as plt\n",
    "from random import random # Generate Gaussian floats randomly.\n",
    "\n",
    "# This will compute the information given a one-particle system in n-states.\n",
    "\n",
    "def information(x):\n",
    "    info = 0\n",
    "    total = sum(x)\n",
    "    y = []\n",
    "    for item in x:\n",
    "        y.append(item/total) # Computes normalized probability array.\n",
    "    for item in y:\n",
    "        info = info + (item)*(np.log(item))\n",
    "    return -info # Computes information.\n",
    "    \n",
    "states = 1000 # Number of states.\n",
    "runs = 5000 # Number of information distributions to generate.\n",
    "run_arr = np.arange(1,(runs+1),1).tolist() # Array to hold x-axis values for which run had what information return.\n",
    "res = [] # List to hold information for plotting.\n",
    "equi = (1.0/states) # Equiprobable distribution probability.\n",
    "limit = []\n",
    "total = 0\n",
    "\n",
    "for i in range(runs):\n",
    "    x = []\n",
    "    for j in range(states):\n",
    "        x.append(random())\n",
    "    res.append(information(x))\n",
    "    \n",
    "# Computes maximum information probable for a system.\n",
    "\n",
    "for i in range(states):\n",
    "  total = total + (equi)*np.log(equi)\n",
    "\n",
    "total = -total\n",
    "\n",
    "for i in range(runs):\n",
    "    limit.append(total)\n",
    "    \n",
    "# Plotting...\n",
    "\n",
    "plt.plot(run_arr, limit)\n",
    "plt.scatter(run_arr, res)\n",
    "plt.show()"
   ]
  },
  {
   "cell_type": "code",
   "execution_count": null,
   "metadata": {},
   "outputs": [],
   "source": []
  }
 ],
 "metadata": {
  "kernelspec": {
   "display_name": "Python 3",
   "language": "python",
   "name": "python3"
  },
  "language_info": {
   "codemirror_mode": {
    "name": "ipython",
    "version": 3
   },
   "file_extension": ".py",
   "mimetype": "text/x-python",
   "name": "python",
   "nbconvert_exporter": "python",
   "pygments_lexer": "ipython3",
   "version": "3.6.10"
  }
 },
 "nbformat": 4,
 "nbformat_minor": 4
}
